{
 "cells": [
  {
   "cell_type": "markdown",
   "id": "b9b43247-256b-448a-9120-cc153ed2d874",
   "metadata": {},
   "source": [
    "# 911 Calls Capstone Project\n",
    "---"
   ]
  },
  {
   "cell_type": "markdown",
   "id": "27fd25aa-3a3c-4c9d-aa78-b6406097da19",
   "metadata": {},
   "source": [
    "For this capstone projects you will be analyzing some 911 call data from [Kaggle](https://www.kaggle.com/datasets/mchirico/montcoalert). This data contains the following fields:\n",
    "* lat: String variable, Latitude\n",
    "* lng: String variable, Longitude\n",
    "* desc: String variable, Description of Emergency Call\n",
    "* zip: String variable, Zipcode\n",
    "* title: String variable, Title\n",
    "* timeStamp: String variable YYYY-MM-DD- HH:MM:SS\n",
    "* twp: String variable, Address\n",
    "* addr: String variable, Address\n",
    "* e, String variable, Dummy variable (always 1)\n",
    "\n",
    "Just go along with this notebook and complete the instructions or answer the questions in bold using your Python and Data Science skills.  "
   ]
  },
  {
   "cell_type": "markdown",
   "id": "840302d2-b1af-4879-a6b3-23b6620ed265",
   "metadata": {},
   "source": [
    "## Data and Setup\n",
    "---"
   ]
  },
  {
   "cell_type": "markdown",
   "id": "a2134203-6399-4ff0-99df-c24600e32875",
   "metadata": {},
   "source": [
    "**Import numpy and pandas**"
   ]
  },
  {
   "cell_type": "code",
   "execution_count": 1,
   "id": "56ee7d88-979e-4954-970c-749b6ef71e68",
   "metadata": {},
   "outputs": [],
   "source": [
    "import numpy as np\n",
    "import pandas as pd"
   ]
  },
  {
   "cell_type": "markdown",
   "id": "042fb780-4017-4ec9-aecd-fdaa9bbb8604",
   "metadata": {},
   "source": [
    "**Get Data From Kaggle**"
   ]
  },
  {
   "cell_type": "code",
   "execution_count": 3,
   "id": "5dfd15a8-ed9f-454e-9c90-fdb1046246de",
   "metadata": {},
   "outputs": [],
   "source": [
    "import os\n",
    "import kagglehub"
   ]
  },
  {
   "cell_type": "code",
   "execution_count": 5,
   "id": "b3f4afd0-9bcb-4884-b462-59cc4e1daeef",
   "metadata": {},
   "outputs": [
    {
     "name": "stdout",
     "output_type": "stream",
     "text": [
      "Path to dataset files: C:\\Users\\jeffh\\.cache\\kagglehub\\datasets\\mchirico\\montcoalert\\versions\\32\n"
     ]
    }
   ],
   "source": [
    "import kagglehub\n",
    "\n",
    "# Download latest version\n",
    "path = kagglehub.dataset_download(\"mchirico/montcoalert\")\n",
    "\n",
    "print(\"Path to dataset files:\", path)"
   ]
  },
  {
   "cell_type": "markdown",
   "id": "cbf4bd58-3ca3-4dbd-829b-0b3bfac19fe8",
   "metadata": {},
   "source": [
    "**Import visualization libraries and set %matplotlib inline.**"
   ]
  },
  {
   "cell_type": "code",
   "execution_count": 7,
   "id": "979c4375-b00a-48db-a410-60433454a66a",
   "metadata": {},
   "outputs": [],
   "source": [
    "# Import visualization libraries\n",
    "import matplotlib.pyplot as plt\n",
    "import seaborn as sns\n",
    "\n",
    "# Ensure plots are displayed inline in Jupyter Notebook\n",
    "%matplotlib inline\n",
    "\n",
    "# Set a default style for the plots\n",
    "sns.set(style=\"darkgrid\")"
   ]
  },
  {
   "cell_type": "markdown",
   "id": "2ceb16aa-241f-4af4-a8f6-da7d3275a07c",
   "metadata": {},
   "source": [
    "**Read in the csv file as a dataframe called df**\n"
   ]
  },
  {
   "cell_type": "code",
   "execution_count": 9,
   "id": "449cd961-457e-4fe0-982a-e1bea7bf6f0c",
   "metadata": {},
   "outputs": [],
   "source": [
    "data_file_path = os.path.join(path, \"911.csv\")\n",
    "df = pd.read_csv(data_file_path)"
   ]
  },
  {
   "cell_type": "markdown",
   "id": "9f19ed0c-7c21-46e3-89f6-865e342c2956",
   "metadata": {},
   "source": [
    "**Check the info() of the df**\n"
   ]
  },
  {
   "cell_type": "code",
   "execution_count": 11,
   "id": "95263d7d-b27a-4e14-b31a-dfd904c060a6",
   "metadata": {},
   "outputs": [
    {
     "name": "stdout",
     "output_type": "stream",
     "text": [
      "<class 'pandas.core.frame.DataFrame'>\n",
      "RangeIndex: 663522 entries, 0 to 663521\n",
      "Data columns (total 9 columns):\n",
      " #   Column     Non-Null Count   Dtype  \n",
      "---  ------     --------------   -----  \n",
      " 0   lat        663522 non-null  float64\n",
      " 1   lng        663522 non-null  float64\n",
      " 2   desc       663522 non-null  object \n",
      " 3   zip        583323 non-null  float64\n",
      " 4   title      663522 non-null  object \n",
      " 5   timeStamp  663522 non-null  object \n",
      " 6   twp        663229 non-null  object \n",
      " 7   addr       663522 non-null  object \n",
      " 8   e          663522 non-null  int64  \n",
      "dtypes: float64(3), int64(1), object(5)\n",
      "memory usage: 45.6+ MB\n"
     ]
    }
   ],
   "source": [
    "df.info()"
   ]
  },
  {
   "cell_type": "markdown",
   "id": "4cbe00c4-043f-414f-b1b5-fdd8150af346",
   "metadata": {},
   "source": [
    "**Check the head of df**"
   ]
  },
  {
   "cell_type": "code",
   "execution_count": 13,
   "id": "7a30167c-d314-47a9-b7b9-e2f8b96a24e3",
   "metadata": {},
   "outputs": [
    {
     "data": {
      "text/html": [
       "<div>\n",
       "<style scoped>\n",
       "    .dataframe tbody tr th:only-of-type {\n",
       "        vertical-align: middle;\n",
       "    }\n",
       "\n",
       "    .dataframe tbody tr th {\n",
       "        vertical-align: top;\n",
       "    }\n",
       "\n",
       "    .dataframe thead th {\n",
       "        text-align: right;\n",
       "    }\n",
       "</style>\n",
       "<table border=\"1\" class=\"dataframe\">\n",
       "  <thead>\n",
       "    <tr style=\"text-align: right;\">\n",
       "      <th></th>\n",
       "      <th>lat</th>\n",
       "      <th>lng</th>\n",
       "      <th>desc</th>\n",
       "      <th>zip</th>\n",
       "      <th>title</th>\n",
       "      <th>timeStamp</th>\n",
       "      <th>twp</th>\n",
       "      <th>addr</th>\n",
       "      <th>e</th>\n",
       "    </tr>\n",
       "  </thead>\n",
       "  <tbody>\n",
       "    <tr>\n",
       "      <th>0</th>\n",
       "      <td>40.297876</td>\n",
       "      <td>-75.581294</td>\n",
       "      <td>REINDEER CT &amp; DEAD END;  NEW HANOVER; Station ...</td>\n",
       "      <td>19525.0</td>\n",
       "      <td>EMS: BACK PAINS/INJURY</td>\n",
       "      <td>2015-12-10 17:10:52</td>\n",
       "      <td>NEW HANOVER</td>\n",
       "      <td>REINDEER CT &amp; DEAD END</td>\n",
       "      <td>1</td>\n",
       "    </tr>\n",
       "    <tr>\n",
       "      <th>1</th>\n",
       "      <td>40.258061</td>\n",
       "      <td>-75.264680</td>\n",
       "      <td>BRIAR PATH &amp; WHITEMARSH LN;  HATFIELD TOWNSHIP...</td>\n",
       "      <td>19446.0</td>\n",
       "      <td>EMS: DIABETIC EMERGENCY</td>\n",
       "      <td>2015-12-10 17:29:21</td>\n",
       "      <td>HATFIELD TOWNSHIP</td>\n",
       "      <td>BRIAR PATH &amp; WHITEMARSH LN</td>\n",
       "      <td>1</td>\n",
       "    </tr>\n",
       "    <tr>\n",
       "      <th>2</th>\n",
       "      <td>40.121182</td>\n",
       "      <td>-75.351975</td>\n",
       "      <td>HAWS AVE; NORRISTOWN; 2015-12-10 @ 14:39:21-St...</td>\n",
       "      <td>19401.0</td>\n",
       "      <td>Fire: GAS-ODOR/LEAK</td>\n",
       "      <td>2015-12-10 14:39:21</td>\n",
       "      <td>NORRISTOWN</td>\n",
       "      <td>HAWS AVE</td>\n",
       "      <td>1</td>\n",
       "    </tr>\n",
       "    <tr>\n",
       "      <th>3</th>\n",
       "      <td>40.116153</td>\n",
       "      <td>-75.343513</td>\n",
       "      <td>AIRY ST &amp; SWEDE ST;  NORRISTOWN; Station 308A;...</td>\n",
       "      <td>19401.0</td>\n",
       "      <td>EMS: CARDIAC EMERGENCY</td>\n",
       "      <td>2015-12-10 16:47:36</td>\n",
       "      <td>NORRISTOWN</td>\n",
       "      <td>AIRY ST &amp; SWEDE ST</td>\n",
       "      <td>1</td>\n",
       "    </tr>\n",
       "    <tr>\n",
       "      <th>4</th>\n",
       "      <td>40.251492</td>\n",
       "      <td>-75.603350</td>\n",
       "      <td>CHERRYWOOD CT &amp; DEAD END;  LOWER POTTSGROVE; S...</td>\n",
       "      <td>NaN</td>\n",
       "      <td>EMS: DIZZINESS</td>\n",
       "      <td>2015-12-10 16:56:52</td>\n",
       "      <td>LOWER POTTSGROVE</td>\n",
       "      <td>CHERRYWOOD CT &amp; DEAD END</td>\n",
       "      <td>1</td>\n",
       "    </tr>\n",
       "  </tbody>\n",
       "</table>\n",
       "</div>"
      ],
      "text/plain": [
       "         lat        lng                                               desc  \\\n",
       "0  40.297876 -75.581294  REINDEER CT & DEAD END;  NEW HANOVER; Station ...   \n",
       "1  40.258061 -75.264680  BRIAR PATH & WHITEMARSH LN;  HATFIELD TOWNSHIP...   \n",
       "2  40.121182 -75.351975  HAWS AVE; NORRISTOWN; 2015-12-10 @ 14:39:21-St...   \n",
       "3  40.116153 -75.343513  AIRY ST & SWEDE ST;  NORRISTOWN; Station 308A;...   \n",
       "4  40.251492 -75.603350  CHERRYWOOD CT & DEAD END;  LOWER POTTSGROVE; S...   \n",
       "\n",
       "       zip                    title            timeStamp                twp  \\\n",
       "0  19525.0   EMS: BACK PAINS/INJURY  2015-12-10 17:10:52        NEW HANOVER   \n",
       "1  19446.0  EMS: DIABETIC EMERGENCY  2015-12-10 17:29:21  HATFIELD TOWNSHIP   \n",
       "2  19401.0      Fire: GAS-ODOR/LEAK  2015-12-10 14:39:21         NORRISTOWN   \n",
       "3  19401.0   EMS: CARDIAC EMERGENCY  2015-12-10 16:47:36         NORRISTOWN   \n",
       "4      NaN           EMS: DIZZINESS  2015-12-10 16:56:52   LOWER POTTSGROVE   \n",
       "\n",
       "                         addr  e  \n",
       "0      REINDEER CT & DEAD END  1  \n",
       "1  BRIAR PATH & WHITEMARSH LN  1  \n",
       "2                    HAWS AVE  1  \n",
       "3          AIRY ST & SWEDE ST  1  \n",
       "4    CHERRYWOOD CT & DEAD END  1  "
      ]
     },
     "execution_count": 13,
     "metadata": {},
     "output_type": "execute_result"
    }
   ],
   "source": [
    "df.head()"
   ]
  },
  {
   "cell_type": "markdown",
   "id": "cb3f29e1-07a6-42bd-ba4b-7e5b82ad520a",
   "metadata": {},
   "source": [
    "## Basic Questions\n",
    "---"
   ]
  },
  {
   "cell_type": "markdown",
   "id": "c90e3382-074b-4df0-9528-f0a5445c4b4b",
   "metadata": {},
   "source": [
    "**What are the top 5 zipcodes for 911 calls?**"
   ]
  },
  {
   "cell_type": "code",
   "execution_count": null,
   "id": "369040ea-ce9b-49a7-a580-c446739348ba",
   "metadata": {},
   "outputs": [],
   "source": [
    "top_5_zips = df['zip'].value_counts().head()\n",
    "top_5_zips.index = top_5_zips.index.astype(int)\n",
    "top_5_zips"
   ]
  },
  {
   "cell_type": "markdown",
   "id": "ec8795d1-0d80-4da7-bd72-914d9adb53cd",
   "metadata": {},
   "source": [
    "**What are the top 5 townships (twp) for 911 calls?**\n"
   ]
  },
  {
   "cell_type": "code",
   "execution_count": 15,
   "id": "5da60011-1e97-4ada-8e98-14021777487c",
   "metadata": {},
   "outputs": [
    {
     "data": {
      "text/plain": [
       "twp\n",
       "LOWER MERION    55490\n",
       "ABINGTON        39947\n",
       "NORRISTOWN      37633\n",
       "UPPER MERION    36010\n",
       "CHELTENHAM      30574\n",
       "Name: count, dtype: int64"
      ]
     },
     "execution_count": 15,
     "metadata": {},
     "output_type": "execute_result"
    }
   ],
   "source": [
    "df['twp'].value_counts().head()"
   ]
  },
  {
   "cell_type": "markdown",
   "id": "8aa76ff3-2171-4973-bbbb-258dd237a113",
   "metadata": {},
   "source": [
    "**Take a look at the 'title' column, how many unique title codes are there?**\n"
   ]
  },
  {
   "cell_type": "code",
   "execution_count": 17,
   "id": "a23b3bcd-7b35-4b4f-9f09-7527435febab",
   "metadata": {},
   "outputs": [
    {
     "data": {
      "text/plain": [
       "148"
      ]
     },
     "execution_count": 17,
     "metadata": {},
     "output_type": "execute_result"
    }
   ],
   "source": [
    "df['title'].nunique()"
   ]
  },
  {
   "cell_type": "markdown",
   "id": "19a4f3b1-65c8-4648-8ad1-702fe861606c",
   "metadata": {},
   "source": [
    "## Creating new features\n",
    "---"
   ]
  },
  {
   "cell_type": "markdown",
   "id": "d0048948-c4ac-4571-8425-7dee7aebc161",
   "metadata": {},
   "source": [
    "**In the titles column there are \"Reasons/Departments\" specified before the title code. These are EMS, Fire, and Traffic. Use .apply() with a custom lambda expression to create a new column called \"Reason\" that contains this string value.** \n",
    "\n",
    "**For example, if the title column value is EMS: BACK PAINS/INJURY , the Reason column value would be EMS.**"
   ]
  },
  {
   "cell_type": "code",
   "execution_count": 21,
   "id": "4b81ba43-6adf-4462-a5fb-13fb80310066",
   "metadata": {},
   "outputs": [],
   "source": [
    "df['Reason'] = df['title'].apply(lambda x: x.split(':')[0])\n",
    "# df['Reason']"
   ]
  },
  {
   "cell_type": "markdown",
   "id": "d81c494d-7bae-4d74-b25e-08f58a428854",
   "metadata": {},
   "source": [
    "**What is the most common Reason for a 911 call based off of this new column?**\n"
   ]
  },
  {
   "cell_type": "code",
   "execution_count": 23,
   "id": "6ae1b7d4-a403-48a6-b506-c7aeda596745",
   "metadata": {},
   "outputs": [
    {
     "data": {
      "text/plain": [
       "Reason\n",
       "EMS        332692\n",
       "Traffic    230208\n",
       "Fire       100622\n",
       "Name: count, dtype: int64"
      ]
     },
     "execution_count": 23,
     "metadata": {},
     "output_type": "execute_result"
    }
   ],
   "source": [
    "df['Reason'].value_counts()"
   ]
  },
  {
   "cell_type": "markdown",
   "id": "8b1a5b90-a6b3-4c1f-926f-dfbbc36843bd",
   "metadata": {},
   "source": [
    "**Now use seaborn to create a countplot of 911 calls by Reason.**"
   ]
  },
  {
   "cell_type": "code",
   "execution_count": 25,
   "id": "809264c6-804c-47eb-9256-ff493fb0676b",
   "metadata": {},
   "outputs": [
    {
     "data": {
      "image/png": "[encoded data removed]",
      "text/plain": [
       "<Figure size 800x500 with 1 Axes>"
      ]
     },
     "metadata": {},
     "output_type": "display_data"
    }
   ],
   "source": [
    "plt.figure(figsize=(8, 5))\n",
    "sns.countplot(data=df, x='Reason')\n",
    "plt.title(\"911 Calls by Reason\")\n",
    "plt.xlabel(\"Reason\")\n",
    "plt.ylabel(\"Count\")\n",
    "plt.show()"
   ]
  },
  {
   "cell_type": "markdown",
   "id": "18ccab9d-470e-4071-9d03-f38dcf4e07dc",
   "metadata": {},
   "source": [
    "---"
   ]
  },
  {
   "cell_type": "markdown",
   "id": "deb64bc6-5e33-4ed3-980b-4bd10c9dde4e",
   "metadata": {},
   "source": [
    "**Now let us begin to focus on time information. What is the data type of the objects in the timeStamp column?**"
   ]
  },
  {
   "cell_type": "code",
   "execution_count": null,
   "id": "68be107b-f968-48b6-970b-809c4aeafb4c",
   "metadata": {},
   "outputs": [],
   "source": [
    "df['timeStamp'].dtypes"
   ]
  },
  {
   "cell_type": "markdown",
   "id": "945c781d-b960-4f49-bc69-1154c7df1a6c",
   "metadata": {},
   "source": [
    "**You should have seen that these timestamps are still strings. Use [pd.to_datetime](http://pandas.pydata.org/pandas-docs/stable/generated/pandas.to_datetime.html) to convert the column from strings to DateTime objects.**\n"
   ]
  },
  {
   "cell_type": "code",
   "execution_count": null,
   "id": "5dad6ab3-6d0a-4882-9d08-586b025b8d87",
   "metadata": {},
   "outputs": [],
   "source": [
    "df['timeStamp'] = pd.to_datetime(df['timeStamp'])"
   ]
  },
  {
   "cell_type": "markdown",
   "id": "bb484cd1-4482-44c8-9a3e-9a7679adf8d8",
   "metadata": {},
   "source": [
    "**You can now grab specific attributes from a Datetime object by calling them. For example:**\n",
    "\n",
    "    time = df['timeStamp'].iloc[0]\n",
    "    time.hour\n",
    "\n",
    "**You can use Jupyter's tab method to explore the various attributes you can call. Now that the timestamp column are actually DateTime objects, use .apply() to create 3 new columns called Hour, Month, and Day of Week. You will create these columns based off of the timeStamp column, reference the solutions if you get stuck on this step.**"
   ]
  },
  {
   "cell_type": "code",
   "execution_count": null,
   "id": "fa55f7e9-848b-41d9-998f-1984d113dbcb",
   "metadata": {},
   "outputs": [],
   "source": [
    "df['Hour'] = df['timeStamp'].apply(lambda x: x.hour)\n",
    "df['Month'] = df['timeStamp'].apply(lambda x: x.month)\n",
    "df['Day of Week'] = df['timeStamp'].apply(lambda x: x.day_name()) \n",
    "df.head()"
   ]
  },
  {
   "cell_type": "markdown",
   "id": "71a85b9c-2559-476c-a8cf-43aa262a9d51",
   "metadata": {},
   "source": [
    "**Notice how the Day of Week is an integer 0-6. Use the .map() with this dictionary to map the actual string names to the day of the week:**\n",
    "\n",
    "    dmap = {0:'Mon',1:'Tue',2:'Wed',3:'Thu',4:'Fri',5:'Sat',6:'Sun'}"
   ]
  },
  {
   "cell_type": "code",
   "execution_count": null,
   "id": "d82e8394-786d-4188-9545-90bbcb238c65",
   "metadata": {},
   "outputs": [],
   "source": [
    "df['Day of Week'] = df['timeStamp'].dt.dayofweek\n",
    "dmap = {0: 'Mon', 1: 'Tue', 2: 'Wed', 3: 'Thu', 4: 'Fri', 5: 'Sat', 6: 'Sun'}"
   ]
  },
  {
   "cell_type": "code",
   "execution_count": null,
   "id": "f260fc1f-a704-4760-aa38-6d2834ff24c7",
   "metadata": {},
   "outputs": [],
   "source": [
    "df['Day of Week'] = df['Day of Week'].map(dmap)\n",
    "df"
   ]
  },
  {
   "cell_type": "markdown",
   "id": "c2ddebfe-08f1-4582-854c-c62e73c5f7f0",
   "metadata": {},
   "source": [
    "**Now use seaborn to create a countplot of the Day of Week column with the hue based off of the Reason column.**\n"
   ]
  },
  {
   "cell_type": "code",
   "execution_count": null,
   "id": "c44d90c5-5abb-4462-9e17-46c47a6bc5f5",
   "metadata": {},
   "outputs": [],
   "source": [
    "plt.figure(figsize=(10, 6))\n",
    "sns.countplot(data=df, x='Day of Week', hue='Reason', order=['Mon', 'Tue', 'Wed', 'Thu', 'Fri', 'Sat', 'Sun'])\n",
    "plt.title('911 Calls by Day of Week and Reason')\n",
    "plt.xlabel('Day of Week')\n",
    "plt.ylabel('Count')\n",
    "plt.legend(title='Reason')\n",
    "plt.show()"
   ]
  },
  {
   "cell_type": "markdown",
   "id": "e876b5b5-d179-4b04-b4a8-5348aa2b8539",
   "metadata": {},
   "source": [
    "**Now do the same for Month:**"
   ]
  },
  {
   "cell_type": "code",
   "execution_count": null,
   "id": "e2327925-164a-437a-b8ce-507af40ae8ed",
   "metadata": {},
   "outputs": [],
   "source": [
    "plt.figure(figsize=(10, 6))\n",
    "sns.countplot(data=df, x='Month', hue='Reason', order=range(1, 13))\n",
    "plt.title('911 Calls by Month and Reason')\n",
    "plt.xlabel('Month')\n",
    "plt.ylabel('Count')\n",
    "plt.legend(title='Reason')\n",
    "plt.show()"
   ]
  },
  {
   "cell_type": "markdown",
   "id": "1809a4fc-365c-4652-8ea0-c9a32e706c13",
   "metadata": {},
   "source": [
    "**Did you notice something strange about the Plot?**\n",
    "---\n",
    "**You should have noticed it was missing some Months, let's see if we can maybe fill in this information by plotting the information in another way, possibly a simple line plot that fills in the missing months, in order to do this, we'll need to do some work with pandas...**\n",
    "\n",
    "**Now create a gropuby object called byMonth, where you group the DataFrame by the month column and use the count() method for aggregation. Use the head() method on this returned DataFrame.**"
   ]
  },
  {
   "cell_type": "code",
   "execution_count": null,
   "id": "96f6cd2b-ff99-41c1-96c3-3cfb12ef2194",
   "metadata": {},
   "outputs": [],
   "source": [
    "byMonth = df.groupby('Month').count()\n",
    "byMonth"
   ]
  },
  {
   "cell_type": "markdown",
   "id": "5d8829ad-88a5-4c14-80c3-66008bda20a2",
   "metadata": {},
   "source": [
    "**Now create a simple plot off of the dataframe indicating the count of calls per month.**"
   ]
  },
  {
   "cell_type": "code",
   "execution_count": null,
   "id": "92dc9459-35c6-42be-992c-13388c293117",
   "metadata": {},
   "outputs": [],
   "source": [
    "plt.figure(figsize=(10, 6))\n",
    "byMonth['timeStamp'].plot()"
   ]
  },
  {
   "cell_type": "code",
   "execution_count": null,
   "id": "8f8dfca8-dc8a-41c0-9317-75f9de063db7",
   "metadata": {},
   "outputs": [],
   "source": [
    "plt.title('911 Calls Per Month')\n",
    "plt.xlabel('Month')\n",
    "plt.ylabel('Count of Calls')\n",
    "plt.xticks(ticks=range(1, 13), labels=range(1, 13))  # Ensure all months are shown\n",
    "plt.grid(True)\n",
    "plt.show()"
   ]
  },
  {
   "cell_type": "markdown",
   "id": "5b35e132-3113-4aad-bb8c-1914bf89b90a",
   "metadata": {},
   "source": [
    "**Now see if you can use seaborn's lmplot() to create a linear fit on the number of calls per month. Keep in mind you may need to reset the index to a column.**\n"
   ]
  },
  {
   "cell_type": "code",
   "execution_count": null,
   "id": "30a680ef-0b55-4813-85a1-d6bac72d1ff5",
   "metadata": {},
   "outputs": [],
   "source": [
    "byMonth_reset = byMonth.reset_index()\n",
    "sns.lmplot(data=byMonth_reset, x='Month', y='timeStamp', height=6, aspect=1.5)"
   ]
  },
  {
   "cell_type": "code",
   "execution_count": null,
   "id": "20cc2345-3d83-425e-90c8-7c3cb1347592",
   "metadata": {},
   "outputs": [],
   "source": [
    "plt.title('Linear Fit of 911 Calls Per Month')\n",
    "plt.xlabel('Month')\n",
    "plt.ylabel('Count of Calls')\n",
    "plt.grid(True)\n",
    "plt.show()"
   ]
  },
  {
   "cell_type": "markdown",
   "id": "9451c700-b41d-4e31-873c-ab8bcd4e077d",
   "metadata": {},
   "source": [
    "**Create a new column called 'Date' that contains the date from the timeStamp column. You'll need to use apply along with the .date() method.** "
   ]
  },
  {
   "cell_type": "code",
   "execution_count": null,
   "id": "5e301b8f-1946-4473-bdb7-d2fbe5b8e784",
   "metadata": {},
   "outputs": [],
   "source": [
    "df['Date'] = df['timeStamp'].apply(lambda x: x.date())\n",
    "df"
   ]
  },
  {
   "cell_type": "markdown",
   "id": "9ed06aa9-35ef-42d0-9299-f57b90efba09",
   "metadata": {},
   "source": [
    "**Now groupby this Date column with the count() aggregate and create a plot of counts of 911 calls.**"
   ]
  },
  {
   "cell_type": "code",
   "execution_count": null,
   "id": "c84bd1ba-507f-4549-ad3e-35dcbe6a6717",
   "metadata": {},
   "outputs": [],
   "source": [
    "calls_by_date = df.groupby('Date').count()"
   ]
  },
  {
   "cell_type": "code",
   "execution_count": null,
   "id": "c306de4f-352c-4704-a2db-2d7cd40fd43d",
   "metadata": {},
   "outputs": [],
   "source": [
    "plt.figure(figsize=(10, 6))\n",
    "calls_by_date['timeStamp'].plot()"
   ]
  },
  {
   "cell_type": "code",
   "execution_count": null,
   "id": "db7f52f6-3e94-45eb-bbfd-f9d6da28c85d",
   "metadata": {},
   "outputs": [],
   "source": [
    "plt.title('911 Calls per Day')\n",
    "plt.xlabel('Date')\n",
    "plt.ylabel('Count of Calls')\n",
    "plt.grid(True)\n",
    "plt.show()"
   ]
  },
  {
   "cell_type": "markdown",
   "id": "e5f4c6ef-8113-4893-a42f-a8faba414a04",
   "metadata": {},
   "source": [
    "**Now recreate this plot but create 3 separate plots with each plot representing a Reason for the 911 call**"
   ]
  },
  {
   "cell_type": "code",
   "execution_count": null,
   "id": "89342276-6a49-4f38-b450-d71511a46bb8",
   "metadata": {},
   "outputs": [],
   "source": [
    "df['Reason'] = df['title'].apply(lambda x: x.split(':')[0])"
   ]
  },
  {
   "cell_type": "code",
   "execution_count": null,
   "id": "67ae5c27-1185-432b-9bf6-5911bc698104",
   "metadata": {},
   "outputs": [],
   "source": [
    "for reason in df['Reason'].unique():\n",
    "    calls_by_date = df[df['Reason'] == reason].groupby('Date').count()\n",
    "    \n",
    "    plt.figure(figsize=(10, 6))\n",
    "    calls_by_date['timeStamp'].plot()\n",
    "    \n",
    "    plt.title(f'911 Calls per Day for {reason}')\n",
    "    plt.xlabel('Date')\n",
    "    plt.ylabel('Count of Calls')\n",
    "    plt.grid(True)\n",
    "    plt.show()"
   ]
  },
  {
   "cell_type": "markdown",
   "id": "b94cf076-1ba3-44f7-a749-41a76e283ebf",
   "metadata": {},
   "source": [
    "---"
   ]
  },
  {
   "cell_type": "markdown",
   "id": "0104750b-cb93-4cf6-945a-3999feb899e5",
   "metadata": {},
   "source": [
    "**Now let's move on to creating  heatmaps with seaborn and our data. We'll first need to restructure the dataframe so that the columns become the Hours and the Index becomes the Day of the Week. There are lots of ways to do this, but I would recommend trying to combine groupby with an [unstack](http://pandas.pydata.org/pandas-docs/stable/generated/pandas.DataFrame.unstack.html) method. Reference the solutions if you get stuck on this!**"
   ]
  },
  {
   "cell_type": "markdown",
   "id": "cbc4aeef-d5da-494f-97f1-bf3b4182653c",
   "metadata": {},
   "source": [
    "**Now create a HeatMap using this new DataFrame.**"
   ]
  },
  {
   "cell_type": "code",
   "execution_count": null,
   "id": "7ddee629-b362-4e64-828a-4e3f7acca1c7",
   "metadata": {},
   "outputs": [],
   "source": [
    "df['Day of Week'] = df['timeStamp'].dt.dayofweek\n",
    "df['Hour'] = df['timeStamp'].dt.hour\n",
    "dmap = {0: 'Mon', 1: 'Tue', 2: 'Wed', 3: 'Thu', 4: 'Fri', 5: 'Sat', 6: 'Sun'}\n",
    "df['Day of Week'] = df['Day of Week'].map(dmap)\n",
    "heatmap_data = df.groupby(['Day of Week', 'Hour']).count()['timeStamp'].unstack()\n",
    "print(heatmap_data)"
   ]
  },
  {
   "cell_type": "code",
   "execution_count": null,
   "id": "be7079a1-c6c0-4880-8e6c-bb4c9d36821f",
   "metadata": {},
   "outputs": [],
   "source": [
    "plt.figure(figsize=(12, 6))\n",
    "sns.heatmap(heatmap_data, cmap='coolwarm', linewidths=0.5, linecolor='black')\n",
    "plt.title('911 Calls Heatmap by Day of Week and Hour')\n",
    "plt.xlabel('Hour')\n",
    "plt.ylabel('Day of Week')\n",
    "plt.show()"
   ]
  },
  {
   "cell_type": "markdown",
   "id": "9d87de91-0e32-48c7-9f7c-d94685695301",
   "metadata": {},
   "source": [
    "**Now create a clustermap using this DataFrame.**"
   ]
  },
  {
   "cell_type": "code",
   "execution_count": null,
   "id": "4c6c7a75-9877-45c5-b439-6fc93e78f1af",
   "metadata": {},
   "outputs": [],
   "source": [
    "sns.clustermap(heatmap_data, cmap='coolwarm', linewidths=0.5, figsize=(12, 8))\n",
    "plt.title('911 Calls Clustermap by Day of Week and Hour', pad=50)  # Pad adjusts the title's position\n",
    "plt.show()"
   ]
  },
  {
   "cell_type": "markdown",
   "id": "46119fce-b9b6-4b20-a3d6-005212c1e8b9",
   "metadata": {},
   "source": [
    "**Now repeat these same plots and operations, for a DataFrame that shows the Month as the column.**"
   ]
  },
  {
   "cell_type": "code",
   "execution_count": null,
   "id": "d6f8de5b-a4c4-4f77-9507-cc68d5850ece",
   "metadata": {},
   "outputs": [],
   "source": [
    "heatmap_data_month = df.groupby(['Day of Week', 'Month']).count()['timeStamp'].unstack()\n",
    "heatmap_data_month = heatmap_data_month.fillna(0)\n",
    "plt.figure(figsize=(12, 6))\n",
    "sns.heatmap(heatmap_data_month, cmap='coolwarm', linewidths=0.5, linecolor='black')\n",
    "plt.title('911 Calls Heatmap by Day of Week and Month')\n",
    "plt.xlabel('Month')\n",
    "plt.ylabel('Day of Week')\n",
    "plt.show()"
   ]
  },
  {
   "cell_type": "code",
   "execution_count": null,
   "id": "20ec83bc-b387-4254-8839-ab378f7f821c",
   "metadata": {},
   "outputs": [],
   "source": [
    "sns.clustermap(heatmap_data_month, cmap='coolwarm', linewidths=0.5, figsize=(12, 8))\n",
    "plt.title('911 Calls Clustermap by Day of Week and Month', pad=50)\n",
    "plt.show()"
   ]
  },
  {
   "cell_type": "code",
   "execution_count": null,
   "id": "9b07b98a-aa9c-4333-986b-d5353cca4069",
   "metadata": {},
   "outputs": [],
   "source": []
  }
 ],
 "metadata": {
  "kernelspec": {
   "display_name": "Python [conda env:base] *",
   "language": "python",
   "name": "conda-base-py"
  },
  "language_info": {
   "codemirror_mode": {
    "name": "ipython",
    "version": 3
   },
   "file_extension": ".py",
   "mimetype": "text/x-python",
   "name": "python",
   "nbconvert_exporter": "python",
   "pygments_lexer": "ipython3",
   "version": "3.12.7"
  }
 },
 "nbformat": 4,
 "nbformat_minor": 5
}
